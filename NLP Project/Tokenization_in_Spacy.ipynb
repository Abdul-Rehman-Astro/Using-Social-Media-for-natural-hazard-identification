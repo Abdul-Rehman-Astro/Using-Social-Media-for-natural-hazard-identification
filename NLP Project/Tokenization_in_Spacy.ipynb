{
 "cells": [
  {
   "cell_type": "code",
   "execution_count": 11,
   "metadata": {},
   "outputs": [],
   "source": [
    "\n",
    "import spacy\n"
   ]
  },
  {
   "cell_type": "code",
   "execution_count": 12,
   "metadata": {},
   "outputs": [
    {
     "name": "stdout",
     "output_type": "stream",
     "text": [
      "It\n",
      "is\n",
      "easiest\n",
      "to\n",
      "install\n",
      "Git\n",
      "on\n",
      "Linux\n",
      "using\n",
      "the\n",
      "preferred\n",
      "package\n",
      "manager\n",
      "of\n",
      "your\n",
      "Linux\n",
      "distribution\n",
      ".\n",
      "If\n",
      "you\n",
      "prefer\n",
      "to\n",
      "build\n",
      "from\n",
      "source\n",
      ",\n",
      "you\n",
      "can\n",
      "find\n",
      "tarballs\n",
      "on\n",
      "kernel.org\n",
      ".\n",
      "The\n",
      "latest\n",
      "version\n",
      "is\n",
      "2.41.0\n",
      ".\n"
     ]
    }
   ],
   "source": [
    "nlp = spacy.blank(\"en\")\n",
    "\n",
    "doc = nlp(\"It is easiest to install Git on Linux using the preferred package manager of your Linux distribution.If you prefer to build from source, you can find tarballs on kernel.org. The latest version is 2.41.0. \")\n",
    "\n",
    "for token in doc:\n",
    "    print(token)"
   ]
  },
  {
   "cell_type": "code",
   "execution_count": 7,
   "metadata": {},
   "outputs": [
    {
     "data": {
      "text/plain": [
       "It"
      ]
     },
     "execution_count": 7,
     "metadata": {},
     "output_type": "execute_result"
    }
   ],
   "source": [
    "doc[0]"
   ]
  },
  {
   "cell_type": "code",
   "execution_count": 9,
   "metadata": {},
   "outputs": [
    {
     "name": "stdout",
     "output_type": "stream",
     "text": [
      " \n",
      "a\n",
      "“\n",
      "I\n",
      "”\n",
      ",\n",
      "“\n",
      "am\n",
      "”\n",
      ",\n",
      "and\n",
      "“\n",
      "going\n",
      "”\n"
     ]
    }
   ],
   "source": [
    "doc = nlp(''' a “I”, “am”, and “going”''')\n",
    "\n",
    "for token in doc:\n",
    "    print(token)"
   ]
  },
  {
   "cell_type": "code",
   "execution_count": null,
   "metadata": {},
   "outputs": [],
   "source": []
  }
 ],
 "metadata": {
  "kernelspec": {
   "display_name": "base",
   "language": "python",
   "name": "python3"
  },
  "language_info": {
   "codemirror_mode": {
    "name": "ipython",
    "version": 3
   },
   "file_extension": ".py",
   "mimetype": "text/x-python",
   "name": "python",
   "nbconvert_exporter": "python",
   "pygments_lexer": "ipython3",
   "version": "3.9.13"
  },
  "orig_nbformat": 4
 },
 "nbformat": 4,
 "nbformat_minor": 2
}
